{
 "cells": [
  {
   "cell_type": "code",
   "execution_count": 3,
   "metadata": {},
   "outputs": [
    {
     "name": "stdout",
     "output_type": "stream",
     "text": [
      " * Serving Flask app '__main__' (lazy loading)\n",
      " * Environment: production\n",
      "\u001b[31m   WARNING: This is a development server. Do not use it in a production deployment.\u001b[0m\n",
      "\u001b[2m   Use a production WSGI server instead.\u001b[0m\n",
      " * Debug mode: off\n"
     ]
    },
    {
     "name": "stderr",
     "output_type": "stream",
     "text": [
      " * Running on http://127.0.0.1:5000/ (Press CTRL+C to quit)\n",
      "127.0.0.1 - - [10/Aug/2021 14:49:14] \"GET /predict?variance=0&skewness=-3&curtosis=-2&entropy=1 HTTP/1.1\" 200 -\n",
      "127.0.0.1 - - [10/Aug/2021 14:50:41] \"GET /predict?variance=-2&skewness=-2&curtosis=-2&entropy=-1 HTTP/1.1\" 200 -\n",
      "127.0.0.1 - - [10/Aug/2021 14:52:38] \"POST /predict_file HTTP/1.1\" 200 -\n"
     ]
    }
   ],
   "source": [
    "from flask import Flask,request\n",
    "import pandas as pd\n",
    "import numpy as np\n",
    "import pickle\n",
    "app=Flask(__name__)\n",
    "pickle_in=open(\"classifier.pkl\",\"rb\")\n",
    "classifier=pickle.load(pickle_in)\n",
    "@app.route('/')\n",
    "def welcome():\n",
    "    return \"Welcome all\"\n",
    "@app.route('/predict')\n",
    "def predict_note_authentication():\n",
    "    variance=request.args.get(\"variance\")\n",
    "    skewness=request.args.get(\"skewness\")\n",
    "    curtosis=request.args.get(\"curtosis\")\n",
    "    entropy=request.args.get(\"entropy\")\n",
    "    prediction=classifier.predict([[variance,skewness,curtosis,entropy]])\n",
    "    return f\"predictions are : {prediction}\"\n",
    "\n",
    "@app.route('/predict_file',methods=['POST'])\n",
    "def predict_note_file():\n",
    "    df_test=pd.read_csv(request.files.get('file'))\n",
    "    prediction=classifier.predict(df_test)\n",
    "    return f\"predictions are : {list(prediction)}\"\n",
    "\n",
    "if __name__=='__main__':\n",
    "    app.run()"
   ]
  },
  {
   "cell_type": "code",
   "execution_count": 1,
   "metadata": {},
   "outputs": [
    {
     "name": "stdout",
     "output_type": "stream",
     "text": [
      "Name: scikit-learn\r\n",
      "Version: 0.23.2\r\n",
      "Summary: A set of python modules for machine learning and data mining\r\n",
      "Home-page: http://scikit-learn.org\r\n",
      "Author: \r\n",
      "Author-email: \r\n",
      "License: new BSD\r\n",
      "Location: /home/priyayadav/my_project/my_project_env/lib/python3.6/site-packages\r\n",
      "Requires: scipy, numpy, threadpoolctl, joblib\r\n",
      "Required-by: sklearn, simpletransformers, seqeval, scattertext\r\n"
     ]
    }
   ],
   "source": [
    "!pip show scikit-learn"
   ]
  },
  {
   "cell_type": "code",
   "execution_count": 8,
   "metadata": {},
   "outputs": [
    {
     "name": "stdout",
     "output_type": "stream",
     "text": [
      "Name: requests\r\n",
      "Version: 2.5.0\r\n",
      "Summary: Python HTTP for Humans.\r\n",
      "Home-page: http://python-requests.org\r\n",
      "Author: Kenneth Reitz\r\n",
      "Author-email: me@kennethreitz.com\r\n",
      "License: Apache 2.0\r\n",
      "Location: /home/priyayadav/my_project/my_project_env/lib/python3.6/site-packages\r\n",
      "Requires: \r\n",
      "Required-by: wandb, transformers, tensorboard, streamlit, spacy, simpletransformers, requests-oauthlib, pandas-profiling, huggingface-hub, empath, deep-translator, datasets\r\n"
     ]
    }
   ],
   "source": [
    "!pip show requests"
   ]
  },
  {
   "cell_type": "code",
   "execution_count": null,
   "metadata": {},
   "outputs": [],
   "source": []
  }
 ],
 "metadata": {
  "kernelspec": {
   "display_name": "Python 3",
   "language": "python",
   "name": "python3"
  },
  "language_info": {
   "codemirror_mode": {
    "name": "ipython",
    "version": 3
   },
   "file_extension": ".py",
   "mimetype": "text/x-python",
   "name": "python",
   "nbconvert_exporter": "python",
   "pygments_lexer": "ipython3",
   "version": "3.6.9"
  }
 },
 "nbformat": 4,
 "nbformat_minor": 4
}
